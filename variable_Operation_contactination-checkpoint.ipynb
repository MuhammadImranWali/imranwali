{
 "cells": [
  {
   "cell_type": "markdown",
   "id": "b727fd40",
   "metadata": {},
   "source": [
    "Operation\n",
    "*oprand\n",
    "*operators "
   ]
  },
  {
   "cell_type": "code",
   "execution_count": 1,
   "id": "afea4c07",
   "metadata": {},
   "outputs": [
    {
     "name": "stdout",
     "output_type": "stream",
     "text": [
      "10\n"
     ]
    }
   ],
   "source": [
    "print(5*2)"
   ]
  },
  {
   "cell_type": "code",
   "execution_count": 2,
   "id": "03c0d864",
   "metadata": {},
   "outputs": [
    {
     "name": "stdout",
     "output_type": "stream",
     "text": [
      "7\n"
     ]
    }
   ],
   "source": [
    "print (5+2)"
   ]
  },
  {
   "cell_type": "code",
   "execution_count": 4,
   "id": "3373f078",
   "metadata": {},
   "outputs": [
    {
     "name": "stdout",
     "output_type": "stream",
     "text": [
      "2.5\n"
     ]
    }
   ],
   "source": [
    "print (5/2) # Float"
   ]
  },
  {
   "cell_type": "code",
   "execution_count": 5,
   "id": "366d5226",
   "metadata": {},
   "outputs": [
    {
     "name": "stdout",
     "output_type": "stream",
     "text": [
      "25\n"
     ]
    }
   ],
   "source": [
    "print (5**2) # power"
   ]
  },
  {
   "cell_type": "code",
   "execution_count": 3,
   "id": "de66c0be",
   "metadata": {},
   "outputs": [
    {
     "name": "stdout",
     "output_type": "stream",
     "text": [
      "2\n"
     ]
    }
   ],
   "source": [
    "print (5//2) # floor divion"
   ]
  },
  {
   "cell_type": "code",
   "execution_count": 4,
   "id": "62a45d38",
   "metadata": {},
   "outputs": [
    {
     "name": "stdout",
     "output_type": "stream",
     "text": [
      "2\n"
     ]
    }
   ],
   "source": [
    "print(11 % 3) # Modulus / Reminders"
   ]
  },
  {
   "cell_type": "markdown",
   "id": "71d26327",
   "metadata": {},
   "source": [
    "# = Equal operator \n",
    "    asssign any value to varibale (placeholder)\n",
    "    syntax\n",
    "    variable_name =value\n",
    "    any data type"
   ]
  },
  {
   "cell_type": "code",
   "execution_count": 14,
   "id": "f08d26ee",
   "metadata": {},
   "outputs": [
    {
     "name": "stdout",
     "output_type": "stream",
     "text": [
      "PIAIC\n",
      "36/37\n",
      "Muhammad Qasim\n",
      "9 am to 12 pm\n",
      "PIAIC\n",
      "36/37\n",
      "Muhammad Qasim\n",
      "9 am to 12 pm\n",
      "PIAIC\n",
      "36/37\n",
      "Muhammad Qasim\n",
      "9 am to 12 pm\n",
      "PIAIC\n",
      "36/37\n",
      "Muhammad Qasim\n",
      "9 am to 12 pm\n"
     ]
    }
   ],
   "source": [
    "school =\"PIAIC\"\n",
    "batch  = \"36/37\"\n",
    "teacher = \"Muhammad Qasim\"\n",
    "timing  = \"9 am to 12 pm\"\n",
    "\n",
    "print (school)\n",
    "print(batch)\n",
    "print(teacher)\n",
    "print(timing)\n",
    "\n",
    "print (school)\n",
    "print(batch)\n",
    "print(teacher)\n",
    "print(timing)\n",
    "\n",
    "print (school)\n",
    "print(batch)\n",
    "print(teacher)\n",
    "print(timing)\n",
    "\n",
    "print (school)\n",
    "print(batch)\n",
    "print(teacher)\n",
    "print(timing)\n"
   ]
  },
  {
   "cell_type": "code",
   "execution_count": 16,
   "id": "f618069a",
   "metadata": {},
   "outputs": [
    {
     "name": "stdout",
     "output_type": "stream",
     "text": [
      "2741250240880\n",
      "2741250169968\n",
      "2741250170416\n",
      "2741250170096\n"
     ]
    }
   ],
   "source": [
    "print(id(name))\n",
    "print(id(batch))\n",
    "print(id(teacher))\n",
    "print(id(timing))"
   ]
  },
  {
   "cell_type": "code",
   "execution_count": 15,
   "id": "a1ed6b7a",
   "metadata": {},
   "outputs": [
    {
     "name": "stdout",
     "output_type": "stream",
     "text": [
      "Muhammad Imran Wali\n"
     ]
    }
   ],
   "source": [
    "name = \"Muhammad Imran Wali\"\n",
    "print (name) #Predifine petrun"
   ]
  },
  {
   "cell_type": "markdown",
   "id": "f7dff252",
   "metadata": {},
   "source": [
    "# use some pre-dine function\n",
    "\n",
    "  *print()\n",
    "*type()\n",
    "*id()\n",
    "*len()"
   ]
  },
  {
   "cell_type": "code",
   "execution_count": 13,
   "id": "6e5511df",
   "metadata": {},
   "outputs": [
    {
     "name": "stdout",
     "output_type": "stream",
     "text": [
      "<class 'str'>\n",
      "2741203627264\n",
      "19\n"
     ]
    }
   ],
   "source": [
    "name = \"Muhammad Imran Wali\"\n",
    "print(type(name))# class type data type\n",
    "print(id(name)) # memory address\n",
    "print(len(name)) # len use for count of character "
   ]
  },
  {
   "cell_type": "code",
   "execution_count": null,
   "id": "8b8131d0",
   "metadata": {},
   "outputs": [],
   "source": [
    "print(id(name))"
   ]
  }
 ],
 "metadata": {
  "kernelspec": {
   "display_name": "Python 3 (ipykernel)",
   "language": "python",
   "name": "python3"
  },
  "language_info": {
   "codemirror_mode": {
    "name": "ipython",
    "version": 3
   },
   "file_extension": ".py",
   "mimetype": "text/x-python",
   "name": "python",
   "nbconvert_exporter": "python",
   "pygments_lexer": "ipython3",
   "version": "3.9.7"
  }
 },
 "nbformat": 4,
 "nbformat_minor": 5
}
